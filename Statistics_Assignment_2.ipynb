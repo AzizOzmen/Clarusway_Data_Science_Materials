{
  "nbformat": 4,
  "nbformat_minor": 0,
  "metadata": {
    "colab": {
      "name": "Statistics_Assignment_2.ipynb",
      "provenance": [],
      "collapsed_sections": [],
      "include_colab_link": true
    },
    "kernelspec": {
      "name": "python3",
      "display_name": "Python 3"
    }
  },
  "cells": [
    {
      "cell_type": "markdown",
      "metadata": {
        "id": "view-in-github",
        "colab_type": "text"
      },
      "source": [
        "<a href=\"https://colab.research.google.com/github/AzizOzmen/Clarusway_Data_Science_Materials/blob/main/Statistics_Assignment_2.ipynb\" target=\"_parent\"><img src=\"https://colab.research.google.com/assets/colab-badge.svg\" alt=\"Open In Colab\"/></a>"
      ]
    },
    {
      "cell_type": "markdown",
      "metadata": {
        "id": "K7S4cEyZLTp7"
      },
      "source": [
        "## Descriptive Statistics"
      ]
    },
    {
      "cell_type": "markdown",
      "metadata": {
        "id": "vZRYVyc8H7hi"
      },
      "source": [
        " Import **NumPy**, **SciPy**, and **Pandas**"
      ]
    },
    {
      "cell_type": "code",
      "metadata": {
        "id": "7ShN0klrHIk3"
      },
      "source": [
        "import numpy as np\n",
        "import pandas as pd\n",
        "import scipy as sp  # we imported related libraries for our study"
      ],
      "execution_count": null,
      "outputs": []
    },
    {
      "cell_type": "markdown",
      "metadata": {
        "id": "_SaQURIqIA6d"
      },
      "source": [
        " Randomly generate 1,000 samples from the normal distribution using `np.random.normal()`(mean = 100, standard deviation = 15)"
      ]
    },
    {
      "cell_type": "code",
      "metadata": {
        "id": "lNr_xBONbdVj"
      },
      "source": [
        "help(np.random.normal)  # we looked at  inside the np.random.normal regarding what the parameters are"
      ],
      "execution_count": null,
      "outputs": []
    },
    {
      "cell_type": "code",
      "metadata": {
        "id": "Jyw_FMX0IRkm",
        "colab": {
          "base_uri": "https://localhost:8080/"
        },
        "outputId": "7e3c8ec0-4f2e-49af-d512-a0a77dc9b1d1"
      },
      "source": [
        "samples = np.random.normal(loc=100, scale=15, size=1000)\n",
        "samples  # we have generated  1,000 samples from the normal distribution \n",
        "         # using np.random.normal() with mean = 100 and standard deviation = 15 "
      ],
      "execution_count": null,
      "outputs": [
        {
          "output_type": "execute_result",
          "data": {
            "text/plain": [
              "array([109.84589479, 101.53846292,  92.53857213,  96.12082041,\n",
              "       108.09684502, 113.72316759, 101.0495994 ,  89.93482377,\n",
              "       105.28275973,  94.71707066, 109.36517611,  84.51263831,\n",
              "        96.77066078, 104.71177726,  85.14772026, 112.77739183,\n",
              "        96.15571091, 102.61059194,  99.30143663, 112.55647594,\n",
              "        99.8361275 , 116.91611148, 101.0007493 ,  99.86800993,\n",
              "       104.35172169,  82.72284903,  99.86230259, 135.42686965,\n",
              "        80.83948787, 117.00616337,  96.85979197, 106.4408672 ,\n",
              "       127.18487971,  94.75272568, 106.3155674 ,  89.55723511,\n",
              "       132.91921104,  62.58983602,  92.22729852, 113.63300531,\n",
              "       118.91713349,  99.97926061, 111.66496329,  70.94854366,\n",
              "        94.23557521, 135.37946481,  74.49987165,  89.85611487,\n",
              "       115.72817394,  81.95902549,  82.04413332, 113.7319109 ,\n",
              "       111.08464499,  82.97590192,  99.92124527, 113.56863932,\n",
              "       100.00520202,  98.33355375,  90.65862479, 112.47716319,\n",
              "       101.65056246,  84.13561782,  97.11433161, 100.21622785,\n",
              "       105.57783674, 102.56866866, 100.62733757,  93.66145359,\n",
              "       101.6056236 ,  86.4012127 , 120.46664451, 104.81992972,\n",
              "        91.45873807, 119.28670558,  78.11859214, 113.00370442,\n",
              "        87.0930459 , 118.08439299,  85.47200091, 107.71886742,\n",
              "       104.83378569,  70.12725563, 114.85897766, 105.36960786,\n",
              "       120.0429514 , 110.01290378, 111.60765636, 106.01499411,\n",
              "        80.38409284,  91.97655501, 103.88632058,  98.62457453,\n",
              "        75.72394234,  79.84406158,  99.39331346, 100.20926861,\n",
              "        86.40980654,  83.76649298, 106.44557899,  76.20409727,\n",
              "       119.97252543, 114.37826503, 105.17113001,  85.48289882,\n",
              "        85.98870858, 116.63487619, 114.94251141,  92.42541856,\n",
              "        98.68670101,  60.53670828,  87.20691326,  92.91632282,\n",
              "       116.89327284,  97.27798612, 109.34640734,  87.02734479,\n",
              "        85.61754966, 113.99907462, 115.85799435,  85.22789118,\n",
              "        88.73959183,  82.67702262, 116.98775058, 111.85533299,\n",
              "       100.36308972,  86.5540701 ,  73.35486739,  98.54819721,\n",
              "       100.00345064, 120.45998326, 138.2268122 ,  95.8408927 ,\n",
              "        82.05051432,  94.91518991, 111.19445429,  70.3990105 ,\n",
              "       112.21585775,  97.38620592,  76.24278657, 115.8773222 ,\n",
              "        96.41148531, 117.0138666 , 123.37157181,  97.19351124,\n",
              "       105.31093169, 125.17396847,  81.39238753, 117.17728455,\n",
              "       112.32690545,  89.06487485,  93.78438186,  73.84402285,\n",
              "       104.81452184,  66.26866885,  99.13257824,  93.08620465,\n",
              "       125.82074955, 100.59773691,  88.19433354, 106.56983113,\n",
              "        99.62773415, 110.01854359, 101.30455009, 128.66532532,\n",
              "        94.61812316, 112.26890042, 105.11267073,  83.82485758,\n",
              "       118.16580283, 119.59944105, 102.45343702,  86.4101176 ,\n",
              "       100.51989394, 103.39436979,  88.76742995, 114.18332701,\n",
              "        73.58805988, 121.40931692,  98.17804612, 126.43211195,\n",
              "        96.74171991, 116.82030548, 106.81311174,  84.60141826,\n",
              "        95.57882054,  99.82350076,  99.50029448, 118.56107946,\n",
              "        83.42686026, 135.9580813 , 100.71016083, 112.01276711,\n",
              "        92.03129965,  94.6972848 ,  97.80288298,  74.97064118,\n",
              "        72.53672263, 100.59073469, 102.88340285, 105.82855593,\n",
              "        99.5132673 ,  95.07244732, 110.4296263 ,  58.6596163 ,\n",
              "        80.92381638, 108.63734652,  98.22504422,  94.17512879,\n",
              "        96.64821477, 125.6751717 ,  97.69198021, 103.10775351,\n",
              "        94.4652452 ,  90.05220658,  85.47547115, 103.65564205,\n",
              "       111.37544732,  59.95041053,  97.18362732,  96.97508161,\n",
              "       125.60428016, 101.97406281, 112.36620611,  94.31166801,\n",
              "       100.95425114, 119.68237787, 105.16130519, 115.99513695,\n",
              "       107.59347585,  78.39065806,  93.93886579, 104.41418282,\n",
              "       101.36357368,  97.09220686, 106.95098933, 112.9798071 ,\n",
              "        69.22809063, 101.90521842,  90.02774358, 120.42524045,\n",
              "        99.61372065, 117.26829489, 126.27327303, 109.18130807,\n",
              "        76.31311005, 106.91388494, 104.7195965 ,  89.07628408,\n",
              "        87.33437816, 116.02095933,  98.40834942, 105.81864045,\n",
              "       104.78959107,  92.85190273,  99.94963915, 113.90154954,\n",
              "        92.87539598,  85.27227837, 103.73652409,  91.25789555,\n",
              "        91.65546101, 130.3333798 ,  86.75565305, 117.45689171,\n",
              "        99.25331247,  68.40412621, 106.6481108 ,  80.6870495 ,\n",
              "       105.10378031, 100.30009349,  86.09792316,  89.10725458,\n",
              "        93.21764367,  89.36953298, 134.04506187, 110.94964966,\n",
              "       101.41726061, 108.67141481,  78.87371233,  82.39727305,\n",
              "       118.5904499 , 110.06403698, 125.02941674,  90.86958668,\n",
              "        77.95556758, 100.21075812,  70.84688407, 105.84092663,\n",
              "        99.93807808,  66.86913162, 106.92305528,  98.0060939 ,\n",
              "        86.5408159 , 103.83178265, 142.35841465,  67.79239485,\n",
              "        98.82822872,  97.42285013,  96.77022448,  85.78458052,\n",
              "       102.23131851,  91.06113362,  97.75185703, 108.99602469,\n",
              "        93.97870777, 121.6900913 , 102.44239541, 118.88210432,\n",
              "       108.8904916 , 103.69478238,  95.77328318,  80.17222386,\n",
              "        84.67520092,  93.02058314, 107.11330855, 112.75338122,\n",
              "       107.85045616,  97.51900506, 123.72166661, 103.05127579,\n",
              "        84.06406875, 116.50895609, 115.35595503, 115.12026822,\n",
              "        76.35854353,  87.26395395, 136.79768372, 110.21680611,\n",
              "        87.564766  , 103.41972525, 122.46108552,  74.62230651,\n",
              "        82.1122108 ,  70.79551219, 133.04813125,  93.39438044,\n",
              "        92.17494182, 105.30564659,  86.63508485,  94.18796601,\n",
              "       109.32589308, 109.01309653,  98.22174957, 103.56030036,\n",
              "        81.49457448, 106.03250323, 113.32732574, 111.1833443 ,\n",
              "        94.84361397,  94.68785741, 117.71199586, 123.02938864,\n",
              "       104.3940206 , 114.02934135, 117.30183275, 107.05477461,\n",
              "        91.89718643,  94.8598846 , 114.63292771, 119.26806222,\n",
              "       111.22692351,  76.56630931, 116.8680415 , 103.50517592,\n",
              "        90.80141419, 106.28049241,  87.46713926, 125.36702509,\n",
              "        83.85050238, 119.73810033,  82.47843719, 111.07220876,\n",
              "        91.19460884,  74.96258396,  93.02981829, 133.52004967,\n",
              "        84.50552805,  94.56162481,  95.57497176, 105.04604276,\n",
              "        80.04356506,  87.78946712, 102.23285436,  80.03874871,\n",
              "       114.52558568,  95.6022745 , 116.40619405,  95.93983844,\n",
              "       100.17109083, 115.6584929 ,  87.851752  ,  94.24862584,\n",
              "        95.03237699,  77.47087938, 119.82963016,  87.8284496 ,\n",
              "       121.98765489,  85.2570905 , 102.22351726, 106.0235006 ,\n",
              "        95.38486157, 106.12567501, 111.4254883 ,  86.17946503,\n",
              "       101.81196466,  92.89805618, 116.48921173,  65.12947951,\n",
              "        97.16389865,  80.89823186,  83.98237851, 106.54581547,\n",
              "        92.50053005, 112.00017682,  99.85193754,  98.94195379,\n",
              "        80.43205268,  99.66142541,  96.10440959, 100.95260315,\n",
              "       110.98189995,  81.94053431, 108.37433902, 101.05130998,\n",
              "       114.93062354,  96.03173242,  98.33659738,  93.03372634,\n",
              "        90.72254841, 110.62169528,  85.67538871, 108.55789   ,\n",
              "        84.2970443 ,  96.53055271, 106.96137547, 124.75943263,\n",
              "       103.03011233, 117.38775406,  96.86338854, 108.60874756,\n",
              "        94.94795273, 102.54929422, 112.29211489, 101.36135982,\n",
              "        89.69578847,  81.71036047,  91.93666078,  92.89863706,\n",
              "       104.24842306, 107.50866825,  89.59149941, 123.94291146,\n",
              "        93.53813822, 129.96107859, 121.39780597,  97.58109999,\n",
              "        69.95586454,  97.43472409, 101.05613824, 114.33851594,\n",
              "        97.18811112,  73.15142507,  96.29991017, 113.00022079,\n",
              "       109.03521883, 110.83923688, 103.83520347, 104.23415195,\n",
              "       143.23577522,  73.65545645,  87.4519101 , 108.8640229 ,\n",
              "        99.11027295, 130.97515529,  99.61858401, 107.66810522,\n",
              "       124.70080521,  84.12733639, 100.69073336, 106.17013979,\n",
              "       132.62055668, 114.14947905,  82.45406221,  99.25072994,\n",
              "        61.81036601, 100.5969095 ,  88.59076303,  81.58093998,\n",
              "        97.53480616,  93.5787328 , 108.28533757, 116.77990185,\n",
              "       116.97086557, 102.81717219,  98.00438856,  87.79172846,\n",
              "        97.55539933,  92.607293  ,  94.39681825, 112.11307795,\n",
              "       110.14168686, 110.43935358,  69.56116762,  91.16815745,\n",
              "       107.07902762,  86.08006974, 115.25393766, 103.91859321,\n",
              "       111.25515141, 107.77989465,  93.02627385,  87.33824025,\n",
              "       113.36358428, 121.5650319 , 105.75200374,  88.25276923,\n",
              "       100.65594449, 105.23578002, 104.4265485 , 102.88504795,\n",
              "        98.43042208, 116.93178512,  92.00630356, 105.01884736,\n",
              "       107.37626902,  89.2611821 ,  84.38315426,  85.19029043,\n",
              "       119.530972  ,  97.09594917,  97.27740522,  90.43295463,\n",
              "        83.21842383, 103.76497982, 103.03197493, 102.14882725,\n",
              "       124.45343666, 114.85344028, 123.86497946,  81.64752104,\n",
              "        89.27619212,  76.58256491,  91.61273291,  84.60436159,\n",
              "       111.95487863, 108.12049076,  94.4410105 ,  96.69004398,\n",
              "        89.35616111,  93.25659749,  71.80996957, 120.95746165,\n",
              "       116.51012096, 112.55698316, 111.87596824,  79.90050701,\n",
              "       106.3089755 ,  85.94118191,  81.09454829,  99.83354309,\n",
              "        81.51425842,  93.42476142,  97.74030309,  90.9018062 ,\n",
              "        83.28306385, 100.96493667, 102.22106911,  74.51705405,\n",
              "        72.67590391, 100.33135216,  98.43804864,  75.840983  ,\n",
              "        98.71582374, 100.68741061,  90.25057511, 102.85650447,\n",
              "       112.77702067,  95.12382251,  98.87719767, 112.00189188,\n",
              "       111.867101  ,  83.67908782, 109.36369214,  97.43365734,\n",
              "       101.0895826 , 112.39351872,  99.90516866,  79.56688417,\n",
              "       117.80327967, 114.91027616, 114.27318888, 114.0598219 ,\n",
              "        93.97829067, 115.79069628,  99.36364745, 105.18156045,\n",
              "        99.62455129, 126.36309282,  99.93604395, 122.71637501,\n",
              "        70.36488559,  96.79790304,  76.9422052 ,  81.75365129,\n",
              "       100.56464812,  96.9272432 ,  59.14018135,  89.63404564,\n",
              "        86.52703402, 103.2622363 ,  81.34974811, 104.61554987,\n",
              "       102.26082219, 106.64023206, 105.70889658, 100.42996331,\n",
              "       117.82093879,  86.62097516,  94.95514111, 101.2251357 ,\n",
              "        77.03673118,  79.68345218,  58.12499119,  88.42136371,\n",
              "        85.87782164, 115.12020799,  83.41159398,  83.95571891,\n",
              "        91.90441301,  81.72809885,  97.03298484,  96.88860211,\n",
              "        98.67999631,  77.31365144, 114.597923  ,  74.21136358,\n",
              "       116.40069496,  94.60595591,  96.46461092, 115.41537397,\n",
              "        85.94749426, 109.66944817,  94.16230299,  65.36966251,\n",
              "       101.16673605,  75.47141463,  98.84093583, 104.43236996,\n",
              "        69.2428935 , 116.53599368,  85.33923833, 109.09230191,\n",
              "       112.71389176, 112.51711063, 106.10598568,  98.62925908,\n",
              "        84.89890155, 102.77699639, 104.51243204,  79.53387727,\n",
              "        94.69300765, 106.91384196,  81.21226291,  94.37219214,\n",
              "       102.23658587,  93.05404386,  95.96112227, 105.33223456,\n",
              "       119.25650708,  94.03802539,  86.26146633, 129.43928495,\n",
              "        92.86810228, 122.68832991,  85.43915114,  97.30645002,\n",
              "       103.89330694, 107.7606068 ,  79.75589973,  92.38807887,\n",
              "        84.64805703, 111.46883324,  96.07807847,  85.51543472,\n",
              "        99.2577371 , 103.52397636, 102.18920628,  97.11193264,\n",
              "       123.84026378,  90.27341266,  89.00355742,  99.27151651,\n",
              "        97.52127557, 121.30219634,  89.22413538, 125.15711445,\n",
              "       113.39353102, 107.17250243,  85.27680985,  96.24601665,\n",
              "        95.05336923, 108.73294838, 104.60741184,  75.72144043,\n",
              "        72.72742547, 106.2898456 , 125.65249177,  76.06805163,\n",
              "       105.88856421, 114.87614497, 115.10356636, 117.44558174,\n",
              "        79.80753003, 119.13842264,  98.72238122,  93.25860322,\n",
              "        91.63135621, 111.16661352,  95.64173729,  90.35375265,\n",
              "       115.94989977, 102.33403236, 112.37462202, 131.24726846,\n",
              "       114.64200851,  75.52449164,  86.5151918 ,  90.40959497,\n",
              "       117.65280876,  84.41052665, 107.05961727,  88.90079273,\n",
              "       121.8749681 ,  99.69767082, 106.0611578 ,  90.15051818,\n",
              "       108.53246929,  53.1733366 ,  85.80835391,  97.93690246,\n",
              "        83.67881094, 107.92974274,  83.50595562, 106.20550066,\n",
              "        90.58494657, 109.62427819, 104.2175187 ,  97.00349023,\n",
              "        78.61502719,  93.59289454, 104.33851213,  81.39811861,\n",
              "       106.61991227, 105.12868293, 125.12450968,  98.33913858,\n",
              "        86.31534782,  87.05201057,  78.86122941,  75.74666206,\n",
              "       104.51363884, 123.78834362, 108.62800058, 110.58959345,\n",
              "        95.97765928, 126.80939393, 120.30001208,  82.68894855,\n",
              "       108.33261774,  92.56457068,  99.2687296 , 111.89251867,\n",
              "        84.47539653, 109.45005359, 123.86261683, 105.40640119,\n",
              "        81.24611383, 100.27566318,  80.48238788, 113.52825807,\n",
              "       108.44229897,  71.77937664,  80.93045415,  95.0332455 ,\n",
              "        88.78044697, 104.80763898, 104.28532234,  93.7665142 ,\n",
              "        89.50851802,  89.89514531,  95.00090053, 111.16354645,\n",
              "       121.48748042, 100.29872659, 130.06006901,  93.17947441,\n",
              "        99.03195712, 100.98244689,  81.71093875, 112.609644  ,\n",
              "        94.16669074, 112.01198147,  91.03847663,  66.37168452,\n",
              "       101.09366319,  71.20932966,  80.28623015, 114.76955904,\n",
              "       118.86633812,  81.44493856,  82.5162497 ,  88.71106842,\n",
              "       103.21862555,  92.21714066,  81.71099102, 120.71031955,\n",
              "        82.00376983, 105.55213902, 107.44265776, 112.97705459,\n",
              "       119.74227352, 130.78946076, 106.25626851, 118.38419895,\n",
              "       120.29037359,  86.91649029, 113.37773244, 103.93454874,\n",
              "        93.04650767, 101.97677426, 119.1521834 ,  98.89515489,\n",
              "       101.37285279, 113.67734874, 108.64974444,  92.66425104,\n",
              "        94.95267515, 120.24449067, 114.72290464, 106.2227248 ,\n",
              "        90.86265631, 107.18103486, 128.75465013, 102.15261358,\n",
              "       102.41756853,  95.81461678, 104.41626563,  90.82902702,\n",
              "        94.0487459 , 109.20617914, 107.72112237, 103.17055942,\n",
              "       109.88434336,  94.09474404, 105.85068012, 112.2275509 ,\n",
              "       128.01416867, 109.42214029,  99.94691693, 106.48952474,\n",
              "        90.01467454,  69.3819231 ,  83.65136066, 118.58899573,\n",
              "       118.28759807, 113.47946756, 100.26502284, 121.61913942,\n",
              "        77.63991524,  83.98425985, 100.33934545, 117.46610712,\n",
              "       119.05577116, 128.11120357, 110.51693429, 131.34647698,\n",
              "       115.25205877, 100.18561349,  84.19302466, 101.89874748,\n",
              "        67.58106312,  76.16876687, 101.73780113, 101.1659052 ,\n",
              "        77.96563531, 100.71374866,  97.18834218, 108.0379251 ,\n",
              "        97.95627084,  84.10312896,  94.07186275,  93.16066572,\n",
              "        78.84807273,  91.09267422, 106.61446533,  88.89774218,\n",
              "       100.87494123,  92.57397944,  93.53063286,  98.59855104,\n",
              "       100.5133336 , 106.07133575,  99.81439613, 110.55959386,\n",
              "       105.21359957,  81.87096031,  80.77046171, 100.61329669,\n",
              "       119.8379359 ,  91.29143523,  90.92364727, 107.11437085,\n",
              "       104.00011381, 116.39636333, 110.93618997, 122.46921173,\n",
              "        88.39641226,  92.15816549,  89.4855715 ,  88.89107947,\n",
              "        80.90573797,  81.39958645, 105.33532379,  84.73881784,\n",
              "       119.78964261,  93.92412495,  84.60776608,  80.81665794,\n",
              "       106.82286063,  81.62917848, 109.0286185 , 107.68298376,\n",
              "        96.82981112,  95.81108832,  94.28160223,  86.07533345,\n",
              "       114.79223291,  88.85701209, 119.6698605 ,  88.33756798,\n",
              "       110.47128637, 108.12490634,  86.40658763,  93.81436403,\n",
              "       110.07272481, 101.41740239, 125.90686645, 100.52259053,\n",
              "       132.12026811,  95.32244052,  98.43010431, 123.24263117,\n",
              "       110.19360253,  97.14694268,  88.45157055,  94.94181986,\n",
              "        63.66131029,  82.19175682, 101.41618519, 111.04046972,\n",
              "        97.5063243 , 134.22277524, 112.67568614,  67.4439799 ,\n",
              "        84.29865168,  98.94207547, 110.27437203, 106.77738865,\n",
              "       114.65230872, 116.67870019,  95.33006659, 107.58955711,\n",
              "        91.34763088, 120.95839776,  82.72119956, 104.80282047,\n",
              "       134.71390515,  76.65062458,  99.74306172, 105.69672043,\n",
              "       109.17921838,  77.88436846, 116.93233871,  68.9714032 ,\n",
              "        84.86992108, 109.23323655, 142.79944906,  96.22903819,\n",
              "        87.83854015,  98.59866846,  95.58160763,  73.58708187,\n",
              "        83.85391469, 112.74314487,  81.04221268, 108.87128919,\n",
              "        90.18334791, 102.3354468 ,  82.49219908, 118.39152454])"
            ]
          },
          "metadata": {
            "tags": []
          },
          "execution_count": 11
        }
      ]
    },
    {
      "cell_type": "markdown",
      "metadata": {
        "id": "CDF8m3a4IYOC"
      },
      "source": [
        "Compute the **mean**, **median**, and **mode**"
      ]
    },
    {
      "cell_type": "code",
      "metadata": {
        "id": "ZKbeqxaKIoNs"
      },
      "source": [
        "import scipy.stats as stats\n",
        "\n",
        "mean = np.mean(samples)  # we computed the mean value for our generated samples\n",
        "median = np.median(samples)  # we computed the median value for our generated samples\n",
        "mode = stats.mode(samples)  # we computed the mode value for our generated samples\n",
        "                            # WHATCH OUT: we used stats from scipy library for mode calcualtion"
      ],
      "execution_count": null,
      "outputs": []
    },
    {
      "cell_type": "code",
      "metadata": {
        "colab": {
          "base_uri": "https://localhost:8080/"
        },
        "id": "FS4z505T_BTk",
        "outputId": "37d69e85-0101-4164-b7bc-9dec70be5b51"
      },
      "source": [
        "samples.mean()"
      ],
      "execution_count": null,
      "outputs": [
        {
          "output_type": "execute_result",
          "data": {
            "text/plain": [
              "99.73342025064575"
            ]
          },
          "metadata": {
            "tags": []
          },
          "execution_count": 66
        }
      ]
    },
    {
      "cell_type": "code",
      "metadata": {
        "colab": {
          "base_uri": "https://localhost:8080/"
        },
        "id": "l3_OmogHdTMB",
        "outputId": "464bee25-6480-4cf7-e04e-b171f59d08be"
      },
      "source": [
        "mean"
      ],
      "execution_count": null,
      "outputs": [
        {
          "output_type": "execute_result",
          "data": {
            "text/plain": [
              "99.73342025064575"
            ]
          },
          "metadata": {
            "tags": []
          },
          "execution_count": 23
        }
      ]
    },
    {
      "cell_type": "code",
      "metadata": {
        "colab": {
          "base_uri": "https://localhost:8080/"
        },
        "id": "vxMukc9cdWAy",
        "outputId": "215697b5-6f89-4863-8670-6114efe2d434"
      },
      "source": [
        "median"
      ],
      "execution_count": null,
      "outputs": [
        {
          "output_type": "execute_result",
          "data": {
            "text/plain": [
              "99.92864460578403"
            ]
          },
          "metadata": {
            "tags": []
          },
          "execution_count": 24
        }
      ]
    },
    {
      "cell_type": "code",
      "metadata": {
        "colab": {
          "base_uri": "https://localhost:8080/"
        },
        "id": "0IALd9eQdXhi",
        "outputId": "52577ab1-61ed-4338-af4a-ba93f054c42e"
      },
      "source": [
        "mode"
      ],
      "execution_count": null,
      "outputs": [
        {
          "output_type": "execute_result",
          "data": {
            "text/plain": [
              "ModeResult(mode=array([53.1733366]), count=array([1]))"
            ]
          },
          "metadata": {
            "tags": []
          },
          "execution_count": 25
        }
      ]
    },
    {
      "cell_type": "markdown",
      "metadata": {
        "id": "skT8m39XI60w"
      },
      "source": [
        "Compute the **min**, **max**, **Q1**, **Q3**, and **interquartile range**"
      ]
    },
    {
      "cell_type": "code",
      "metadata": {
        "id": "VaiDphm8It0O"
      },
      "source": [
        "min = np.min(samples)  # we computed minimum value for our generated samples \n",
        "max = np.max(samples)  # we computed maximum value for our generated samples\n",
        "q1 = np.percentile(samples, 25)  # we computed the 25th percentile which represent \n",
        "                                 # the first quartile for our generated samples\n",
        "q3 = np.percentile(samples, 75)  # we computed the 75th percentile which represent \n",
        "                                 # the third quartile for our generated samples\n",
        "iqr = q3 - q1  # we computed the interquartile range for our generated samples"
      ],
      "execution_count": null,
      "outputs": []
    },
    {
      "cell_type": "code",
      "metadata": {
        "colab": {
          "base_uri": "https://localhost:8080/"
        },
        "id": "fGkDsgNB_cPR",
        "outputId": "bf1bff9c-711e-4091-8f0f-ac2dd192dd12"
      },
      "source": [
        "samples.min()"
      ],
      "execution_count": null,
      "outputs": [
        {
          "output_type": "execute_result",
          "data": {
            "text/plain": [
              "53.173336596912094"
            ]
          },
          "metadata": {
            "tags": []
          },
          "execution_count": 68
        }
      ]
    },
    {
      "cell_type": "code",
      "metadata": {
        "colab": {
          "base_uri": "https://localhost:8080/"
        },
        "id": "1l368xy0eDwi",
        "outputId": "7945b4d8-2017-46f4-9dc3-36cfe86f7a0b"
      },
      "source": [
        "min"
      ],
      "execution_count": null,
      "outputs": [
        {
          "output_type": "execute_result",
          "data": {
            "text/plain": [
              "53.173336596912094"
            ]
          },
          "metadata": {
            "tags": []
          },
          "execution_count": 28
        }
      ]
    },
    {
      "cell_type": "code",
      "metadata": {
        "colab": {
          "base_uri": "https://localhost:8080/"
        },
        "id": "shtAM-I9_gHZ",
        "outputId": "422575e9-6043-4e3a-be19-ecb85edd59fb"
      },
      "source": [
        "samples.max()"
      ],
      "execution_count": null,
      "outputs": [
        {
          "output_type": "execute_result",
          "data": {
            "text/plain": [
              "143.23577521893174"
            ]
          },
          "metadata": {
            "tags": []
          },
          "execution_count": 69
        }
      ]
    },
    {
      "cell_type": "code",
      "metadata": {
        "colab": {
          "base_uri": "https://localhost:8080/"
        },
        "id": "C7ASP0zWffxs",
        "outputId": "cd0dc102-194d-448b-eb5e-c80ae43e47e9"
      },
      "source": [
        "max"
      ],
      "execution_count": null,
      "outputs": [
        {
          "output_type": "execute_result",
          "data": {
            "text/plain": [
              "143.23577521893174"
            ]
          },
          "metadata": {
            "tags": []
          },
          "execution_count": 30
        }
      ]
    },
    {
      "cell_type": "code",
      "metadata": {
        "colab": {
          "base_uri": "https://localhost:8080/"
        },
        "id": "_vexkUtCffru",
        "outputId": "d0be7947-7839-444c-fe4d-a217b6698743"
      },
      "source": [
        "q1"
      ],
      "execution_count": null,
      "outputs": [
        {
          "output_type": "execute_result",
          "data": {
            "text/plain": [
              "89.54505583599538"
            ]
          },
          "metadata": {
            "tags": []
          },
          "execution_count": 70
        }
      ]
    },
    {
      "cell_type": "code",
      "metadata": {
        "colab": {
          "base_uri": "https://localhost:8080/"
        },
        "id": "dmoFcpebffmt",
        "outputId": "15e24dcf-00d6-48c8-f70f-dbcc3c87ace6"
      },
      "source": [
        "q3"
      ],
      "execution_count": null,
      "outputs": [
        {
          "output_type": "execute_result",
          "data": {
            "text/plain": [
              "110.01431373725511"
            ]
          },
          "metadata": {
            "tags": []
          },
          "execution_count": 71
        }
      ]
    },
    {
      "cell_type": "code",
      "metadata": {
        "colab": {
          "base_uri": "https://localhost:8080/"
        },
        "id": "ah34ljlPftQY",
        "outputId": "415e3f9b-7332-4514-8b86-752d5ff947d2"
      },
      "source": [
        "iqr"
      ],
      "execution_count": null,
      "outputs": [
        {
          "output_type": "execute_result",
          "data": {
            "text/plain": [
              "20.469257901259724"
            ]
          },
          "metadata": {
            "tags": []
          },
          "execution_count": 72
        }
      ]
    },
    {
      "cell_type": "code",
      "metadata": {
        "colab": {
          "base_uri": "https://localhost:8080/"
        },
        "id": "5PKI-sikAGMp",
        "outputId": "5a91c691-eb7d-4af9-8c79-c8c8c7f69d67"
      },
      "source": [
        "from scipy import stats\n",
        "stats.iqr(samples)"
      ],
      "execution_count": null,
      "outputs": [
        {
          "output_type": "execute_result",
          "data": {
            "text/plain": [
              "20.469257901259724"
            ]
          },
          "metadata": {
            "tags": []
          },
          "execution_count": 73
        }
      ]
    },
    {
      "cell_type": "code",
      "metadata": {
        "colab": {
          "base_uri": "https://localhost:8080/"
        },
        "id": "g0iSGSX6A1rh",
        "outputId": "1c33d532-6750-4218-d9ab-e9d5375b7f09"
      },
      "source": [
        "from scipy.stats import iqr \n",
        "iqr(samples)"
      ],
      "execution_count": null,
      "outputs": [
        {
          "output_type": "execute_result",
          "data": {
            "text/plain": [
              "20.469257901259724"
            ]
          },
          "metadata": {
            "tags": []
          },
          "execution_count": 77
        }
      ]
    },
    {
      "cell_type": "markdown",
      "metadata": {
        "id": "m53Dv3n5JHQi"
      },
      "source": [
        "Compute the **variance** and **standard deviation**"
      ]
    },
    {
      "cell_type": "code",
      "metadata": {
        "id": "6JFaAYdrJbeN"
      },
      "source": [
        "variance = np.var(samples)  # we computed variance value for our generated samples\n",
        "std_dev = np.std(samples)  # we computed standard deviation value for our generated samples"
      ],
      "execution_count": null,
      "outputs": []
    },
    {
      "cell_type": "code",
      "metadata": {
        "colab": {
          "base_uri": "https://localhost:8080/"
        },
        "id": "ql4NfxooBff1",
        "outputId": "075ab7e7-91d4-44c3-a428-17eda3b531d1"
      },
      "source": [
        "samples.var()"
      ],
      "execution_count": null,
      "outputs": [
        {
          "output_type": "execute_result",
          "data": {
            "text/plain": [
              "218.36125593661419"
            ]
          },
          "metadata": {
            "tags": []
          },
          "execution_count": 78
        }
      ]
    },
    {
      "cell_type": "markdown",
      "metadata": {
        "id": "Fng63x6FCK-X"
      },
      "source": [
        ""
      ]
    },
    {
      "cell_type": "code",
      "metadata": {
        "colab": {
          "base_uri": "https://localhost:8080/"
        },
        "id": "T9lKMXMWgBjE",
        "outputId": "900aab4e-6c15-4c10-ef92-9480a3eb5d76"
      },
      "source": [
        "variance"
      ],
      "execution_count": null,
      "outputs": [
        {
          "output_type": "execute_result",
          "data": {
            "text/plain": [
              "218.36125593661419"
            ]
          },
          "metadata": {
            "tags": []
          },
          "execution_count": 36
        }
      ]
    },
    {
      "cell_type": "code",
      "metadata": {
        "colab": {
          "base_uri": "https://localhost:8080/"
        },
        "id": "kFmn4GLfBjxY",
        "outputId": "0028cbef-4bf1-48c5-fb50-30b18a0bbe17"
      },
      "source": [
        "samples.std()"
      ],
      "execution_count": null,
      "outputs": [
        {
          "output_type": "execute_result",
          "data": {
            "text/plain": [
              "14.777051665897842"
            ]
          },
          "metadata": {
            "tags": []
          },
          "execution_count": 79
        }
      ]
    },
    {
      "cell_type": "code",
      "metadata": {
        "colab": {
          "base_uri": "https://localhost:8080/"
        },
        "id": "RRInLUsFgBXC",
        "outputId": "9fd838b0-cdf1-4859-a250-2407118041e4"
      },
      "source": [
        "std_dev"
      ],
      "execution_count": null,
      "outputs": [
        {
          "output_type": "execute_result",
          "data": {
            "text/plain": [
              "14.777051665897842"
            ]
          },
          "metadata": {
            "tags": []
          },
          "execution_count": 37
        }
      ]
    },
    {
      "cell_type": "markdown",
      "metadata": {
        "id": "5eup4hI1JzqX"
      },
      "source": [
        "Compute the **skewness** and **kurtosis**"
      ]
    },
    {
      "cell_type": "code",
      "metadata": {
        "id": "jSdkiatZlKtP"
      },
      "source": [
        "\"\"\"\n",
        "Skewness is a measure of symmetry, or more precisely, the lack of symmetry. \n",
        "A distribution, or data set, is symmetric if it looks the same to the left and \n",
        "right of the center point.  If the result of the computation is greater than zero, \n",
        "the distribution is positively skewed. If it's less than zero, it's negatively \n",
        "skewed and equal to zero means it's symmetric.\n",
        "\n",
        "The skewness for a normal distribution is zero, and any symmetric data should \n",
        "have a skewness near zero. Negative values for the skewness indicate data that \n",
        "are skewed left and positive values for the skewness indicate data that are \n",
        "skewed right. By skewed left, we mean that the left tail is long relative to the\n",
        "right tail. Similarly, skewed right means that the right tail is long relative to\n",
        "the left tail. If the data are multi-modal, then this may affect the sign of the skewness.\n",
        "\n",
        "Kurtosis is a measure of whether the data are heavy-tailed or light-tailed \n",
        "relative to a normal distribution. That is, data sets with high kurtosis tend to\n",
        "have heavy tails, or outliers. Data sets with low kurtosis tend to have \n",
        "light tails, or lack of outliers.\n",
        "\n",
        "When kurtosis is equal to 0, the distribution is mesokurtic. This means the kurtosis \n",
        "is the same as the normal distribution, it is mesokurtic (medium peak). The kurtosis \n",
        "of a mesokurtic distribution is neither high nor low, rather it is considered to \n",
        "be a baseline for the two other classifications.\n",
        "\n",
        "Positive values of kurtosis indicate that a distribution is peaked and possess \n",
        "thick tails. Leptokurtic distributions have positive kurtosis values. A leptokurtic \n",
        "distribution has a higher peak and taller (i.e. fatter and heavy) tails than a normal distribution.\n",
        "\n",
        "Negative values of kurtosis indicate that a distribution is flat and has thin tails. \n",
        "Platykurtic distributions have negative kurtosis values. A platykurtic distribution \n",
        "is flatter (less peaked) when compared with the normal distribution, with fewer \n",
        "values in its shorter (i.e. lighter and thinner) tails.\n",
        "\n",
        "\"\"\" "
      ],
      "execution_count": null,
      "outputs": []
    },
    {
      "cell_type": "code",
      "metadata": {
        "id": "YO3obyDnJ3_D"
      },
      "source": [
        "skewness = stats.skew(samples)  # we computed skewness value for our generated samples\n",
        "kurtosis = stats.kurtosis(samples)  # we computed kurtosis value for our generated samples"
      ],
      "execution_count": null,
      "outputs": []
    },
    {
      "cell_type": "code",
      "metadata": {
        "colab": {
          "base_uri": "https://localhost:8080/"
        },
        "id": "813HskRagk__",
        "outputId": "6f68048e-e5fb-42b6-9071-99e94fa2bffb"
      },
      "source": [
        "skewness"
      ],
      "execution_count": null,
      "outputs": [
        {
          "output_type": "execute_result",
          "data": {
            "text/plain": [
              "-0.042466663222598816"
            ]
          },
          "metadata": {
            "tags": []
          },
          "execution_count": 39
        }
      ]
    },
    {
      "cell_type": "code",
      "metadata": {
        "colab": {
          "base_uri": "https://localhost:8080/"
        },
        "id": "HyLnXMcvgoMF",
        "outputId": "e3b84400-e334-4f31-cc62-52b47f00d27e"
      },
      "source": [
        "kurtosis  "
      ],
      "execution_count": null,
      "outputs": [
        {
          "output_type": "execute_result",
          "data": {
            "text/plain": [
              "-0.09640128573368845"
            ]
          },
          "metadata": {
            "tags": []
          },
          "execution_count": 40
        }
      ]
    },
    {
      "cell_type": "markdown",
      "metadata": {
        "id": "a5UNc8PUKnbU"
      },
      "source": [
        "## NumPy Correlation Calculation"
      ]
    },
    {
      "cell_type": "markdown",
      "metadata": {
        "id": "cLiqxE1CMNTg"
      },
      "source": [
        "Create an array x of integers between 10 (inclusive) and 20 (exclusive). Use `np.arange()`"
      ]
    },
    {
      "cell_type": "code",
      "metadata": {
        "id": "5LAaQ6w5L-2L",
        "colab": {
          "base_uri": "https://localhost:8080/"
        },
        "outputId": "d412f26f-c705-40af-a3e0-762b4c056241"
      },
      "source": [
        "x = np.arange(10, 20)\n",
        "x"
      ],
      "execution_count": null,
      "outputs": [
        {
          "output_type": "execute_result",
          "data": {
            "text/plain": [
              "array([10, 11, 12, 13, 14, 15, 16, 17, 18, 19])"
            ]
          },
          "metadata": {
            "tags": []
          },
          "execution_count": 43
        }
      ]
    },
    {
      "cell_type": "markdown",
      "metadata": {
        "id": "qyCIaukNMZPf"
      },
      "source": [
        "Then use `np.array()` to create a second array y containing 10 arbitrary integers."
      ]
    },
    {
      "cell_type": "code",
      "metadata": {
        "id": "p27eW__gNMdh",
        "colab": {
          "base_uri": "https://localhost:8080/"
        },
        "outputId": "afe48e7f-c4ac-40cc-cd3e-53205a97e37f"
      },
      "source": [
        "y = np.array([1, 22, 33, 45, 55, 68, 77, 83, 94, 13], dtype=int)\n",
        "y"
      ],
      "execution_count": null,
      "outputs": [
        {
          "output_type": "execute_result",
          "data": {
            "text/plain": [
              "array([ 1, 22, 33, 45, 55, 68, 77, 83, 94, 13])"
            ]
          },
          "metadata": {
            "tags": []
          },
          "execution_count": 51
        }
      ]
    },
    {
      "cell_type": "markdown",
      "metadata": {
        "id": "Kh_VeKwINSqS"
      },
      "source": [
        "Once you have two arrays of the same length, you can compute the **correlation coefficient** between x and y"
      ]
    },
    {
      "cell_type": "code",
      "metadata": {
        "id": "yrtC6rPkNSDC",
        "colab": {
          "base_uri": "https://localhost:8080/"
        },
        "outputId": "2d4f6e6a-5308-48f5-84f9-00f9807f02e4"
      },
      "source": [
        "r = np.corrcoef(x, y)\n",
        "r"
      ],
      "execution_count": null,
      "outputs": [
        {
          "output_type": "execute_result",
          "data": {
            "text/plain": [
              "array([[1.        , 0.56459624],\n",
              "       [0.56459624, 1.        ]])"
            ]
          },
          "metadata": {
            "tags": []
          },
          "execution_count": 53
        }
      ]
    },
    {
      "cell_type": "markdown",
      "metadata": {
        "id": "vXieLjYiNtPi"
      },
      "source": [
        "## Pandas Correlation Calculation"
      ]
    },
    {
      "cell_type": "markdown",
      "metadata": {
        "id": "z56t0k0qNvkr"
      },
      "source": [
        "Run the code below"
      ]
    },
    {
      "cell_type": "code",
      "metadata": {
        "id": "9AVBMJCyNuwb"
      },
      "source": [
        "x = pd.Series(range(10, 20))\n",
        "y = pd.Series([2, 1, 4, 5, 8, 12, 18, 25, 96, 48])"
      ],
      "execution_count": null,
      "outputs": []
    },
    {
      "cell_type": "markdown",
      "metadata": {
        "id": "ZajVXYe2OCih"
      },
      "source": [
        "Call the relevant method  to calculate Pearson's r correlation."
      ]
    },
    {
      "cell_type": "code",
      "metadata": {
        "id": "Ak_rkzbLOafj",
        "colab": {
          "base_uri": "https://localhost:8080/"
        },
        "outputId": "32ea5b7b-bc23-4110-a4a3-70721ae19eab"
      },
      "source": [
        "r = x.corr(y, method='pearson')\n",
        "r"
      ],
      "execution_count": null,
      "outputs": [
        {
          "output_type": "execute_result",
          "data": {
            "text/plain": [
              "0.7586402890911867"
            ]
          },
          "metadata": {
            "tags": []
          },
          "execution_count": 58
        }
      ]
    },
    {
      "cell_type": "markdown",
      "metadata": {
        "id": "1CygSbnROb9V"
      },
      "source": [
        "OPTIONAL. Call the relevant method to calculate Spearman's rho correlation."
      ]
    },
    {
      "cell_type": "code",
      "metadata": {
        "id": "xp_QkXwmOlYY",
        "colab": {
          "base_uri": "https://localhost:8080/"
        },
        "outputId": "bc83a011-f48b-45bb-c54f-8836d850eea6"
      },
      "source": [
        "rho = x.corr(y, method=\"spearman\")\n",
        "rho"
      ],
      "execution_count": null,
      "outputs": [
        {
          "output_type": "execute_result",
          "data": {
            "text/plain": [
              "0.9757575757575757"
            ]
          },
          "metadata": {
            "tags": []
          },
          "execution_count": 60
        }
      ]
    },
    {
      "cell_type": "code",
      "metadata": {
        "colab": {
          "base_uri": "https://localhost:8080/"
        },
        "id": "4gcSpjryT88a",
        "outputId": "d52c8d99-796e-4666-b549-bf1bf4b194f2"
      },
      "source": [
        "rho = x.corr(y, method=\"kendall\")\n",
        "rho"
      ],
      "execution_count": null,
      "outputs": [
        {
          "output_type": "execute_result",
          "data": {
            "text/plain": [
              "0.911111111111111"
            ]
          },
          "metadata": {
            "tags": []
          },
          "execution_count": 80
        }
      ]
    },
    {
      "cell_type": "code",
      "metadata": {
        "id": "-lf7yrym1kum"
      },
      "source": [
        "import numpy as np\n",
        "from scipy.stats import spearmanr"
      ],
      "execution_count": null,
      "outputs": []
    },
    {
      "cell_type": "code",
      "metadata": {
        "colab": {
          "base_uri": "https://localhost:8080/"
        },
        "id": "a5aNeLAw16M-",
        "outputId": "5c2ae64b-6d08-4530-c172-19d411d287df"
      },
      "source": [
        "rho = stats.spearmanr(x, y)\n",
        "rho"
      ],
      "execution_count": null,
      "outputs": [
        {
          "output_type": "execute_result",
          "data": {
            "text/plain": [
              "SpearmanrResult(correlation=0.9757575757575757, pvalue=1.4675461874042197e-06)"
            ]
          },
          "metadata": {
            "tags": []
          },
          "execution_count": 81
        }
      ]
    },
    {
      "cell_type": "markdown",
      "metadata": {
        "id": "we7pg7kdOo7y"
      },
      "source": [
        "## Seaborn Dataset Tips"
      ]
    },
    {
      "cell_type": "markdown",
      "metadata": {
        "id": "VlzgFKN7OvqX"
      },
      "source": [
        "Import Seaborn Library"
      ]
    },
    {
      "cell_type": "code",
      "metadata": {
        "id": "t-49JRRqO4pw"
      },
      "source": [
        "import seaborn as sns"
      ],
      "execution_count": null,
      "outputs": []
    },
    {
      "cell_type": "markdown",
      "metadata": {
        "id": "0INVBB4tO4y4"
      },
      "source": [
        "Load \"tips\" dataset from Seaborn"
      ]
    },
    {
      "cell_type": "code",
      "metadata": {
        "id": "kieLvcM1PBv7"
      },
      "source": [
        "tips = sns.load_dataset(\"tips\")"
      ],
      "execution_count": null,
      "outputs": []
    },
    {
      "cell_type": "markdown",
      "metadata": {
        "id": "o2ISqVQrPh5S"
      },
      "source": [
        "Generate descriptive statistics include those that summarize the central tendency, dispersion"
      ]
    },
    {
      "cell_type": "code",
      "metadata": {
        "id": "FyFvmdbJPVg6",
        "colab": {
          "base_uri": "https://localhost:8080/",
          "height": 295
        },
        "outputId": "ec3f66ea-4e25-4bc0-e08d-228f646d518e"
      },
      "source": [
        "tips.describe()"
      ],
      "execution_count": null,
      "outputs": [
        {
          "output_type": "execute_result",
          "data": {
            "text/html": [
              "<div>\n",
              "<style scoped>\n",
              "    .dataframe tbody tr th:only-of-type {\n",
              "        vertical-align: middle;\n",
              "    }\n",
              "\n",
              "    .dataframe tbody tr th {\n",
              "        vertical-align: top;\n",
              "    }\n",
              "\n",
              "    .dataframe thead th {\n",
              "        text-align: right;\n",
              "    }\n",
              "</style>\n",
              "<table border=\"1\" class=\"dataframe\">\n",
              "  <thead>\n",
              "    <tr style=\"text-align: right;\">\n",
              "      <th></th>\n",
              "      <th>total_bill</th>\n",
              "      <th>tip</th>\n",
              "      <th>size</th>\n",
              "    </tr>\n",
              "  </thead>\n",
              "  <tbody>\n",
              "    <tr>\n",
              "      <th>count</th>\n",
              "      <td>244.000000</td>\n",
              "      <td>244.000000</td>\n",
              "      <td>244.000000</td>\n",
              "    </tr>\n",
              "    <tr>\n",
              "      <th>mean</th>\n",
              "      <td>19.785943</td>\n",
              "      <td>2.998279</td>\n",
              "      <td>2.569672</td>\n",
              "    </tr>\n",
              "    <tr>\n",
              "      <th>std</th>\n",
              "      <td>8.902412</td>\n",
              "      <td>1.383638</td>\n",
              "      <td>0.951100</td>\n",
              "    </tr>\n",
              "    <tr>\n",
              "      <th>min</th>\n",
              "      <td>3.070000</td>\n",
              "      <td>1.000000</td>\n",
              "      <td>1.000000</td>\n",
              "    </tr>\n",
              "    <tr>\n",
              "      <th>25%</th>\n",
              "      <td>13.347500</td>\n",
              "      <td>2.000000</td>\n",
              "      <td>2.000000</td>\n",
              "    </tr>\n",
              "    <tr>\n",
              "      <th>50%</th>\n",
              "      <td>17.795000</td>\n",
              "      <td>2.900000</td>\n",
              "      <td>2.000000</td>\n",
              "    </tr>\n",
              "    <tr>\n",
              "      <th>75%</th>\n",
              "      <td>24.127500</td>\n",
              "      <td>3.562500</td>\n",
              "      <td>3.000000</td>\n",
              "    </tr>\n",
              "    <tr>\n",
              "      <th>max</th>\n",
              "      <td>50.810000</td>\n",
              "      <td>10.000000</td>\n",
              "      <td>6.000000</td>\n",
              "    </tr>\n",
              "  </tbody>\n",
              "</table>\n",
              "</div>"
            ],
            "text/plain": [
              "       total_bill         tip        size\n",
              "count  244.000000  244.000000  244.000000\n",
              "mean    19.785943    2.998279    2.569672\n",
              "std      8.902412    1.383638    0.951100\n",
              "min      3.070000    1.000000    1.000000\n",
              "25%     13.347500    2.000000    2.000000\n",
              "50%     17.795000    2.900000    2.000000\n",
              "75%     24.127500    3.562500    3.000000\n",
              "max     50.810000   10.000000    6.000000"
            ]
          },
          "metadata": {
            "tags": []
          },
          "execution_count": 84
        }
      ]
    },
    {
      "cell_type": "code",
      "metadata": {
        "colab": {
          "base_uri": "https://localhost:8080/"
        },
        "id": "ttOjwTagU0o4",
        "outputId": "749788f0-4827-421a-a374-b7cbf8076499"
      },
      "source": [
        "tips.shape"
      ],
      "execution_count": null,
      "outputs": [
        {
          "output_type": "execute_result",
          "data": {
            "text/plain": [
              "(244, 7)"
            ]
          },
          "metadata": {
            "tags": []
          },
          "execution_count": 85
        }
      ]
    },
    {
      "cell_type": "markdown",
      "metadata": {
        "id": "3yCRK4VJPzRo"
      },
      "source": [
        "Call the relevant method to calculate pairwise Pearson's r correlation of columns"
      ]
    },
    {
      "cell_type": "code",
      "metadata": {
        "id": "qwvGzDU8PGnM",
        "colab": {
          "base_uri": "https://localhost:8080/"
        },
        "outputId": "84906ba8-6e45-490d-81ac-3f7103ad59b6"
      },
      "source": [
        "a = tips['total_bill'].corr(tips['tip'], method='pearson')\n",
        "a"
      ],
      "execution_count": null,
      "outputs": [
        {
          "output_type": "execute_result",
          "data": {
            "text/plain": [
              "0.6757341092113641"
            ]
          },
          "metadata": {
            "tags": []
          },
          "execution_count": 88
        }
      ]
    },
    {
      "cell_type": "code",
      "metadata": {
        "colab": {
          "base_uri": "https://localhost:8080/"
        },
        "id": "0vmtU_PYcIIA",
        "outputId": "4aaa2969-5a35-40f7-aab7-3fe0a04349c7"
      },
      "source": [
        "b = tips['total_bill'].corr(tips['size'], method='pearson')\n",
        "b"
      ],
      "execution_count": null,
      "outputs": [
        {
          "output_type": "execute_result",
          "data": {
            "text/plain": [
              "0.5983151309049022"
            ]
          },
          "metadata": {
            "tags": []
          },
          "execution_count": 89
        }
      ]
    },
    {
      "cell_type": "code",
      "metadata": {
        "colab": {
          "base_uri": "https://localhost:8080/"
        },
        "id": "_PV17lhZcJCp",
        "outputId": "23fc4732-b437-4b80-9ed7-7c9e140d9cbb"
      },
      "source": [
        "c = tips['tip'].corr(tips['size'], method='pearson')\n",
        "c"
      ],
      "execution_count": null,
      "outputs": [
        {
          "output_type": "execute_result",
          "data": {
            "text/plain": [
              "0.4892987752303577"
            ]
          },
          "metadata": {
            "tags": []
          },
          "execution_count": 90
        }
      ]
    }
  ]
}